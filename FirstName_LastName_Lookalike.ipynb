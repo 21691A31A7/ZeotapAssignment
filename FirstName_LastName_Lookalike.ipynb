{
  "nbformat": 4,
  "nbformat_minor": 0,
  "metadata": {
    "colab": {
      "provenance": []
    },
    "kernelspec": {
      "name": "python3",
      "display_name": "Python 3"
    },
    "language_info": {
      "name": "python"
    }
  },
  "cells": [
    {
      "cell_type": "code",
      "execution_count": 2,
      "metadata": {
        "colab": {
          "base_uri": "https://localhost:8080/",
          "height": 767
        },
        "id": "FZOOg7CnCS4w",
        "outputId": "43dd5ed2-8e5f-477a-a14f-f5bd253e8b1b"
      },
      "outputs": [
        {
          "output_type": "stream",
          "name": "stdout",
          "text": [
            "<class 'pandas.core.frame.DataFrame'>\n",
            "RangeIndex: 200 entries, 0 to 199\n",
            "Data columns (total 4 columns):\n",
            " #   Column        Non-Null Count  Dtype \n",
            "---  ------        --------------  ----- \n",
            " 0   CustomerID    200 non-null    object\n",
            " 1   CustomerName  200 non-null    object\n",
            " 2   Region        200 non-null    object\n",
            " 3   SignupDate    200 non-null    object\n",
            "dtypes: object(4)\n",
            "memory usage: 6.4+ KB\n",
            "None\n",
            "<class 'pandas.core.frame.DataFrame'>\n",
            "RangeIndex: 100 entries, 0 to 99\n",
            "Data columns (total 4 columns):\n",
            " #   Column       Non-Null Count  Dtype  \n",
            "---  ------       --------------  -----  \n",
            " 0   ProductID    100 non-null    object \n",
            " 1   ProductName  100 non-null    object \n",
            " 2   Category     100 non-null    object \n",
            " 3   Price        100 non-null    float64\n",
            "dtypes: float64(1), object(3)\n",
            "memory usage: 3.3+ KB\n",
            "None\n",
            "<class 'pandas.core.frame.DataFrame'>\n",
            "RangeIndex: 1000 entries, 0 to 999\n",
            "Data columns (total 7 columns):\n",
            " #   Column           Non-Null Count  Dtype  \n",
            "---  ------           --------------  -----  \n",
            " 0   TransactionID    1000 non-null   object \n",
            " 1   CustomerID       1000 non-null   object \n",
            " 2   ProductID        1000 non-null   object \n",
            " 3   TransactionDate  1000 non-null   object \n",
            " 4   Quantity         1000 non-null   int64  \n",
            " 5   TotalValue       1000 non-null   float64\n",
            " 6   Price            1000 non-null   float64\n",
            "dtypes: float64(2), int64(1), object(4)\n",
            "memory usage: 54.8+ KB\n",
            "None\n"
          ]
        },
        {
          "output_type": "stream",
          "name": "stderr",
          "text": [
            "<ipython-input-2-4485977e113b>:18: UserWarning: Parsing dates in %d-%m-%Y %H:%M format when dayfirst=False (the default) was specified. Pass `dayfirst=True` or specify a format to silence this warning.\n",
            "  transactions['TransactionDate'] = pd.to_datetime(transactions['TransactionDate'])\n"
          ]
        },
        {
          "output_type": "execute_result",
          "data": {
            "text/plain": [
              "\"sns.barplot(x=region_sales.index, y=region_sales.values)\\nplt.title('Total Sales by Region')\\nplt.show()\""
            ],
            "application/vnd.google.colaboratory.intrinsic+json": {
              "type": "string"
            }
          },
          "metadata": {},
          "execution_count": 2
        }
      ],
      "source": [
        "import pandas as pd\n",
        "#import matplotlib.pyplot as plt\n",
        "#import seaborn as sns\n",
        "\n",
        "\n",
        "# Load datasets\n",
        "customers = pd.read_csv('/content/Customers.csv')\n",
        "products = pd.read_csv('/content/Products.csv')\n",
        "transactions = pd.read_csv('/content/Transaction.csv')\n",
        "\n",
        "# Explore datasets\n",
        "print(customers.info())\n",
        "print(products.info())\n",
        "print(transactions.info())\n",
        "\n",
        "# Convert dates\n",
        "customers['SignupDate'] = pd.to_datetime(customers['SignupDate'])\n",
        "transactions['TransactionDate'] = pd.to_datetime(transactions['TransactionDate'])\n",
        "\n",
        "# Merge datasets\n",
        "merged_data = transactions.merge(customers, on='CustomerID').merge(products, on='ProductID')\n",
        "\n",
        "# Example insights\n",
        "# Top-selling products\n",
        "top_products = merged_data.groupby('ProductName')['Quantity'].sum().sort_values(ascending=False)\n",
        "\n",
        "# Regional trends\n",
        "region_sales = merged_data.groupby('Region')['TotalValue'].sum()\n",
        "\n"
      ]
    },
    {
      "cell_type": "code",
      "source": [
        "from sklearn.metrics.pairwise import cosine_similarity\n",
        "from sklearn.preprocessing import StandardScaler\n",
        "import numpy as np\n",
        "\n",
        "# Feature engineering\n",
        "customer_features = merged_data.groupby('CustomerID').agg({\n",
        "    'TotalValue': 'sum',\n",
        "    'Quantity': 'sum',\n",
        "    'TransactionID': 'count'\n",
        "}).rename(columns={'TransactionID': 'TransactionCount'})\n",
        "\n",
        "# Normalize features\n",
        "scaler = StandardScaler()\n",
        "normalized_features = scaler.fit_transform(customer_features)\n",
        "\n",
        "# Compute similarity\n",
        "similarity_matrix = cosine_similarity(normalized_features)\n",
        "\n",
        "# Recommendations\n",
        "similarity_df = pd.DataFrame(similarity_matrix, index=customer_features.index, columns=customer_features.index)\n",
        "def get_top_n_similar(customers, n=3):\n",
        "    recommendations = {}\n",
        "    for customer in customers:\n",
        "        similar_customers = similarity_df[customer].sort_values(ascending=False).iloc[1:n+1]\n",
        "        recommendations[customer] = list(similar_customers.index)\n",
        "    return recommendations\n",
        "\n",
        "# Generate recommendations for first 20 customers\n",
        "lookalikes = get_top_n_similar(customer_features.index[:20])\n",
        "lookalikes_df = pd.DataFrame.from_dict(lookalikes, orient='index', columns=[f'Similar_{i+1}' for i in range(3)])\n",
        "lookalikes_df.to_csv('FirstName_LastName_Lookalike.csv', index_label='CustomerID')"
      ],
      "metadata": {
        "id": "XGeZxVL0C_qr"
      },
      "execution_count": 3,
      "outputs": []
    },
    {
      "cell_type": "code",
      "source": [
        "df=pd.read_csv('/content/FirstName_LastName_Lookalike.csv')\n",
        "print(df)"
      ],
      "metadata": {
        "colab": {
          "base_uri": "https://localhost:8080/"
        },
        "id": "z6GFJM5kEQJY",
        "outputId": "907ef15d-7cff-4265-dc40-2fc72e1d52f6"
      },
      "execution_count": 4,
      "outputs": [
        {
          "output_type": "stream",
          "name": "stdout",
          "text": [
            "   CustomerID Similar_1 Similar_2 Similar_3\n",
            "0       C0001     C0164     C0103     C0069\n",
            "1       C0002     C0029     C0031     C0077\n",
            "2       C0003     C0176     C0027     C0010\n",
            "3       C0004     C0075     C0165     C0113\n",
            "4       C0005     C0123     C0131     C0058\n",
            "5       C0006     C0079     C0117     C0196\n",
            "6       C0007     C0125     C0140     C0092\n",
            "7       C0008     C0179     C0081     C0084\n",
            "8       C0009     C0192     C0083     C0177\n",
            "9       C0010     C0142     C0029     C0027\n",
            "10      C0011     C0096     C0171     C0064\n",
            "11      C0012     C0068     C0065     C0102\n",
            "12      C0013     C0188     C0059     C0022\n",
            "13      C0014     C0033     C0186     C0095\n",
            "14      C0015     C0058     C0131     C0005\n",
            "15      C0016     C0107     C0152     C0183\n",
            "16      C0017     C0113     C0162     C0124\n",
            "17      C0018     C0182     C0148     C0200\n",
            "18      C0019     C0172     C0116     C0157\n",
            "19      C0020     C0080     C0167     C0063\n"
          ]
        }
      ]
    }
  ]
}